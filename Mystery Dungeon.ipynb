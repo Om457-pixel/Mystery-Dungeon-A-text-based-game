{
  "metadata": {
    "kernelspec": {
      "name": "python",
      "display_name": "Python (Pyodide)",
      "language": "python"
    },
    "language_info": {
      "codemirror_mode": {
        "name": "python",
        "version": 3
      },
      "file_extension": ".py",
      "mimetype": "text/x-python",
      "name": "python",
      "nbconvert_exporter": "python",
      "pygments_lexer": "ipython3",
      "version": "3.8"
    }
  },
  "nbformat_minor": 4,
  "nbformat": 4,
  "cells": [
    {
      "cell_type": "code",
      "source": "import random\n\ndef start_game():\n    print(\"Welcome to Mystery Dungeon!\")\n    print(\"Your mission: find the hidden treasure while surviving traps, monsters, and surprises!\\n\")\n    enter_dungeon()\n\ndef enter_dungeon():\n    print(\"The dungeon entrance looms before you. Enter?\")\n    choice = input(\"Type 'yes' to enter or 'no' to leave: \").lower()\n    if choice == 'yes':\n        mysterious_guide()\n    elif choice == 'no':\n        print(\"You turn back. The treasure remains hidden.\")\n    else:\n        print(\"Invalid choice. Try again.\")\n        enter_dungeon()\n\ndef mysterious_guide():\n    print(\"\\nA hooded figure approaches. 'I can guide you,' they say. Trust them?\")\n    choice = input(\"Type 'trust' to accept or 'ignore' to continue alone: \").lower()\n    if choice == 'trust':\n        print(\"The guide gives you a glowing map. 'It shows only part of the truth,' they warn.\")\n        first_path()\n    elif choice == 'ignore':\n        print(\"You ignore them. Their eerie laughter fades as you move ahead.\")\n        first_path()\n    else:\n        print(\"Invalid choice. Try again.\")\n        mysterious_guide()\n\ndef first_path():\n    print(\"\\nYou reach a fork in the path: Left (flickering torches) or Right (darkness).\")\n    choice = input(\"Type 'left' or 'right': \").lower()\n    if choice == 'left':\n        encounter_monster()\n    elif choice == 'right':\n        secret_door()\n    else:\n        print(\"Invalid choice. Try again.\")\n        first_path()\n\ndef encounter_monster():\n    print(\"\\nA monster blocks your path! Fight, flee, or bribe?\")\n    choice = input(\"Type 'fight', 'flee', or 'bribe': \").lower()\n    if choice == 'fight' and random.choice([True, False]):\n        print(\"You defeat the monster! You find a healing potion.\")\n        find_treasure()\n    elif choice == 'flee':\n        print(\"You escape but stumble into a trap!\")\n        trap_room()\n    elif choice == 'bribe' and random.choice([True, False]):\n        print(\"The monster accepts your gold and lets you pass.\")\n        find_treasure()\n    else:\n        print(\"You are defeated. Game over.\")\n\ndef secret_door():\n    print(\"\\nYou find a hidden door. Open it?\")\n    choice = input(\"Type 'open' to open or 'ignore' to move on: \").lower()\n    if choice == 'open' and random.choice([True, False]):\n        print(\"You find cursed treasure and are trapped forever. Game over.\")\n    elif choice == 'open':\n        print(\"You find rare gems and escape! You win!\")\n    else:\n        print(\"You leave the door and continue.\")\n        find_treasure()\n\ndef trap_room():\n    print(\"\\nYou’re trapped in a spike-filled room with a ticking timer!\")\n    choice = input(\"Type 'disarm' to disarm the trap or 'search' to find an exit: \").lower()\n    if choice == 'disarm' and random.choice([True, False]):\n        print(\"You disarm the trap and escape safely.\")\n        find_treasure()\n    elif choice == 'search':\n        print(\"You find a hidden exit and escape!\")\n        find_treasure()\n    else:\n        print(\"The trap activates. Game over.\")\n\ndef find_treasure():\n    print(\"\\nAt the end of the dungeon, you find a treasure chest. Open it?\")\n    choice = input(\"Type 'open' to open or 'leave' to walk away: \").lower()\n    if choice == 'open' and random.choice([True, False]):\n        print(\"The chest contains the hidden treasure! You win!\")\n    elif choice == 'open':\n        print(\"The chest was a mimic! It devours you. Game over.\")\n    else:\n        print(\"You leave the chest and exit the dungeon safely.\")\n\n# Start the game\nstart_game()",
      "metadata": {
        "trusted": true
      },
      "outputs": [],
      "execution_count": null
    }
  ]
}